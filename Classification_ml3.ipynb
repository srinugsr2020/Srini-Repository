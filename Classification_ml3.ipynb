{
  "nbformat": 4,
  "nbformat_minor": 0,
  "metadata": {
    "colab": {
      "name": "Classification_ml3",
      "provenance": [],
      "include_colab_link": true
    },
    "kernelspec": {
      "name": "python3",
      "display_name": "Python 3"
    },
    "accelerator": "GPU"
  },
  "cells": [
    {
      "cell_type": "markdown",
      "metadata": {
        "id": "view-in-github",
        "colab_type": "text"
      },
      "source": [
        "<a href=\"https://colab.research.google.com/github/srinugsr2020/Srini-Repository/blob/master/Classification_ml3.ipynb\" target=\"_parent\"><img src=\"https://colab.research.google.com/assets/colab-badge.svg\" alt=\"Open In Colab\"/></a>"
      ]
    },
    {
      "cell_type": "code",
      "metadata": {
        "id": "0FaryHZr3MTP",
        "colab_type": "code",
        "colab": {}
      },
      "source": [
        "from sklearn.datasets import fetch_openml\n",
        "from sklearn.utils import check_random_state\n",
        "X, y = fetch_openml('mnist_784', version=1, return_X_y=True)\n",
        "random_state = check_random_state(0)\n",
        "#permutation = random_state.permutation(X.shape[0])\n"
      ],
      "execution_count": 0,
      "outputs": []
    },
    {
      "cell_type": "code",
      "metadata": {
        "id": "NtYTLqQe62Fn",
        "colab_type": "code",
        "outputId": "2d500863-4074-4b9f-8495-dc04e1a427bb",
        "colab": {
          "base_uri": "https://localhost:8080/",
          "height": 34
        }
      },
      "source": [
        "X.shape[0]"
      ],
      "execution_count": 4,
      "outputs": [
        {
          "output_type": "execute_result",
          "data": {
            "text/plain": [
              "70000"
            ]
          },
          "metadata": {
            "tags": []
          },
          "execution_count": 2
        },
        {
          "output_type": "execute_result",
          "data": {
            "text/plain": [
              "70000"
            ]
          },
          "metadata": {
            "tags": []
          },
          "execution_count": 4
        }
      ]
    },
    {
      "cell_type": "code",
      "metadata": {
        "id": "16rbQzXC7BQa",
        "colab_type": "code",
        "outputId": "6a829033-f553-486d-a684-0006fe7b33d1",
        "colab": {
          "base_uri": "https://localhost:8080/",
          "height": 969
        }
      },
      "source": [
        "permutation = random_state.permutation(X.shape[0])\n",
        "X = X[permutation]\n",
        "y = y[permutation]\n",
        "X = X.reshape((X.shape[0], -1))\n",
        "print(X[0])"
      ],
      "execution_count": 5,
      "outputs": [
        {
          "output_type": "stream",
          "text": [
            "[  0.   0.   0.   0.   0.   0.   0.   0.   0.   0.   0.   0.   0.   0.\n",
            "   0.   0.   0.   0.   0.   0.   0.   0.   0.   0.   0.   0.   0.   0.\n",
            "   0.   0.   0.   0.   0.   0.   0.   0.   0.   0.   0.   0.   0.   0.\n",
            "   0.   0.   0.   0.   0.   0.   0.   0.   0.   0.   0.   0.   0.   0.\n",
            "   0.   0.   0.   0.   0.   0.   0.   0.   0.   0.   0.   0.   0.   0.\n",
            "   0.   0.   0.   0.   0.   0.   0.   0.   0.   0.   0.   0.   0.   0.\n",
            "   0.   0.   0.   0.   0.   0.   0.   0.   0.   0.   0.   0.   0.   0.\n",
            "   0.   0.   0.   0.   0.   0.   0.   0.   0.   0.   0.   0.   0.   0.\n",
            "   0.   0.   0.   0.   0.   0.   0.   0.   0.   0.   0.   0.   0.  89.\n",
            " 147. 147. 249. 230.  59.   2.   0.   0.   0.   0.   0.   0.   0.   0.\n",
            "   0.   0.   0.   0.   0.   0.   0.   0.   0.   0.   0.  15. 160. 249.\n",
            " 254. 254. 254. 254. 254. 122.   0.   0.   0.   0.   0.   0.   0.   0.\n",
            "   0.   0.   0.   0.   0.   0.   0.   0.   0.   0.   8. 188. 254. 254.\n",
            " 254. 250. 147. 166. 253. 251. 120.   0.   0.   0.   0.   0.   0.   0.\n",
            "   0.   0.   0.   0.   0.   0.   0.   0.   0.  14. 189. 254. 254. 207.\n",
            " 103.  22.   0.   0. 126. 253. 200.   8.   0.   0.   0.   0.   0.   0.\n",
            "   0.   0.   0.   0.   0.   0.   0.   0.   0. 163. 254. 254. 227.  15.\n",
            "   0.   0.   0.   0.   0. 245. 254.  78.   0.   0.   0.   0.   0.   0.\n",
            "   0.   0.   0.   0.   0.   0.   0.   0.  91. 248. 254. 227.  43.   0.\n",
            "   0.   0.   0.   0.   0. 240. 254. 200.   3.   0.   0.   0.   0.   0.\n",
            "   0.   0.   0.   0.   0.   0.   0.   4. 216. 254. 254. 194. 158.  34.\n",
            "   0.   0.   0.   0.   0. 136. 254. 254.   5.   0.   0.   0.   0.   0.\n",
            "   0.   0.   0.   0.   0.   0.   0.   6. 254. 254. 254. 254. 254. 129.\n",
            "   0.   0.   0.   0.   0. 136. 254. 254.   5.   0.   0.   0.   0.   0.\n",
            "   0.   0.   0.   0.   0.   0.   0.  60. 254. 254. 254. 254. 122.  11.\n",
            "   0.   0.   0.   0.   0. 129. 254. 254.   5.   0.   0.   0.   0.   0.\n",
            "   0.   0.   0.   0.   0.   0.   0. 115. 254. 254. 254. 223.  22.   0.\n",
            "   0.   0.   0.   0.   0.  51. 254. 254.   5.   0.   0.   0.   0.   0.\n",
            "   0.   0.   0.   0.   0.   0.   0. 115. 254. 254. 254. 205.   0.   0.\n",
            "   0.   0.   0.   0.   0. 136. 254. 254.   5.   0.   0.   0.   0.   0.\n",
            "   0.   0.   0.   0.   0.   0.   0. 115. 254. 254. 254. 252.  56.   0.\n",
            "   0.   0.   0.   0.   0. 136. 254. 254.   5.   0.   0.   0.   0.   0.\n",
            "   0.   0.   0.   0.   0.   0.   0.  89. 254. 254. 254. 254.  59.   0.\n",
            "   0.   0.   0.   0.   0. 136. 254. 254.   5.   0.   0.   0.   0.   0.\n",
            "   0.   0.   0.   0.   0.   0.   0.   6. 254. 254. 254. 254. 101.   0.\n",
            "   0.   0.   0.   0.   0. 224. 254. 254.   5.   0.   0.   0.   0.   0.\n",
            "   0.   0.   0.   0.   0.   0.   0.   1.  29. 220. 254. 254. 167.   0.\n",
            "   0.   0.   0.   0.  65. 250. 254. 199.   3.   0.   0.   0.   0.   0.\n",
            "   0.   0.   0.   0.   0.   0.   0.   0.   0.  61. 209. 254. 227.  15.\n",
            "   0.   0.   0.  16. 219. 254. 255.  77.   0.   0.   0.   0.   0.   0.\n",
            "   0.   0.   0.   0.   0.   0.   0.   0.   0.   0. 120. 254. 254. 155.\n",
            "   0.   0.   9. 185. 254. 254. 200.   8.   0.   0.   0.   0.   0.   0.\n",
            "   0.   0.   0.   0.   0.   0.   0.   0.   0.   0.   7. 187. 254. 254.\n",
            " 180. 141. 244. 254. 254. 251. 119.   0.   0.   0.   0.   0.   0.   0.\n",
            "   0.   0.   0.   0.   0.   0.   0.   0.   0.   0.   0.  15. 183. 254.\n",
            " 254. 254. 254. 254. 227. 118.   0.   0.   0.   0.   0.   0.   0.   0.\n",
            "   0.   0.   0.   0.   0.   0.   0.   0.   0.   0.   0.   0.  13.  91.\n",
            " 215. 254. 245. 121.  23.   0.   0.   0.   0.   0.   0.   0.   0.   0.\n",
            "   0.   0.   0.   0.   0.   0.   0.   0.   0.   0.   0.   0.   0.   0.\n",
            "   0.   0.   0.   0.   0.   0.   0.   0.   0.   0.   0.   0.   0.   0.\n",
            "   0.   0.   0.   0.   0.   0.   0.   0.   0.   0.   0.   0.   0.   0.\n",
            "   0.   0.   0.   0.   0.   0.   0.   0.   0.   0.   0.   0.   0.   0.\n",
            "   0.   0.   0.   0.   0.   0.   0.   0.   0.   0.   0.   0.   0.   0.\n",
            "   0.   0.   0.   0.   0.   0.   0.   0.   0.   0.   0.   0.   0.   0.\n",
            "   0.   0.   0.   0.   0.   0.   0.   0.   0.   0.   0.   0.   0.   0.\n",
            "   0.   0.   0.   0.   0.   0.   0.   0.   0.   0.   0.   0.   0.   0.]\n"
          ],
          "name": "stdout"
        }
      ]
    },
    {
      "cell_type": "code",
      "metadata": {
        "id": "GAUu0c9a7iQT",
        "colab_type": "code",
        "colab": {}
      },
      "source": [
        "from sklearn.model_selection import train_test_split\n",
        "X_train, X_test, y_train, y_test = train_test_split(\n",
        "    X, y, test_size=10000)"
      ],
      "execution_count": 0,
      "outputs": []
    },
    {
      "cell_type": "code",
      "metadata": {
        "id": "warlB8d5_m8I",
        "colab_type": "code",
        "outputId": "5dc87ff5-758b-4f4f-dc40-d8ea654a47d2",
        "colab": {
          "base_uri": "https://localhost:8080/",
          "height": 34
        }
      },
      "source": [
        "X_train.shape"
      ],
      "execution_count": 7,
      "outputs": [
        {
          "output_type": "execute_result",
          "data": {
            "text/plain": [
              "(60000, 784)"
            ]
          },
          "metadata": {
            "tags": []
          },
          "execution_count": 7
        }
      ]
    },
    {
      "cell_type": "code",
      "metadata": {
        "id": "BwGwFGr1_yCV",
        "colab_type": "code",
        "colab": {}
      },
      "source": [
        "from sklearn.preprocessing import StandardScaler\n",
        "from sklearn.impute import SimpleImputer\n",
        "from sklearn.pipeline import Pipeline\n",
        "pre_process_pipeline = Pipeline([\n",
        "                                 ('imputer',SimpleImputer(strategy='median')),\n",
        "                                  ('scalar',StandardScaler())\n",
        "])\n",
        "X_train_tr = pre_process_pipeline.fit_transform(X_train)"
      ],
      "execution_count": 0,
      "outputs": []
    },
    {
      "cell_type": "code",
      "metadata": {
        "id": "P9gPfrZiJMeo",
        "colab_type": "code",
        "outputId": "9484302c-7b84-4cab-fcbd-065c63b4a96d",
        "colab": {
          "base_uri": "https://localhost:8080/",
          "height": 1000
        }
      },
      "source": [
        "X_train_tr[0]"
      ],
      "execution_count": 9,
      "outputs": [
        {
          "output_type": "execute_result",
          "data": {
            "text/plain": [
              "array([ 0.00000000e+00,  0.00000000e+00,  0.00000000e+00,  0.00000000e+00,\n",
              "        0.00000000e+00,  0.00000000e+00,  0.00000000e+00,  0.00000000e+00,\n",
              "        0.00000000e+00,  0.00000000e+00,  0.00000000e+00,  0.00000000e+00,\n",
              "       -4.08251693e-03, -4.08251693e-03, -4.08251693e-03, -4.08251693e-03,\n",
              "        0.00000000e+00,  0.00000000e+00,  0.00000000e+00,  0.00000000e+00,\n",
              "        0.00000000e+00,  0.00000000e+00,  0.00000000e+00,  0.00000000e+00,\n",
              "        0.00000000e+00,  0.00000000e+00,  0.00000000e+00,  0.00000000e+00,\n",
              "        0.00000000e+00,  0.00000000e+00,  0.00000000e+00,  0.00000000e+00,\n",
              "       -4.08251693e-03, -6.22758214e-03, -9.25077752e-03, -1.18716812e-02,\n",
              "       -1.43115977e-02, -1.84631066e-02, -2.44872515e-02, -3.03733260e-02,\n",
              "       -3.20306274e-02, -3.19532547e-02, -3.22021520e-02, -3.10156728e-02,\n",
              "       -2.99569742e-02, -2.76003996e-02, -2.32470241e-02, -1.92325671e-02,\n",
              "       -1.65457690e-02, -1.09292759e-02, -8.32486080e-03, -4.38069356e-03,\n",
              "        0.00000000e+00,  0.00000000e+00,  0.00000000e+00,  0.00000000e+00,\n",
              "        0.00000000e+00,  0.00000000e+00, -4.08251693e-03, -5.39534598e-03,\n",
              "       -8.52241235e-03, -1.15910450e-02, -1.88868511e-02, -2.84766844e-02,\n",
              "       -3.83754614e-02, -5.44934684e-02, -6.98092387e-02, -8.63641371e-02,\n",
              "       -1.01965236e-01, -1.17153051e-01, -1.29426987e-01, -1.38247400e-01,\n",
              "       -1.38316146e-01, -1.29580872e-01, -1.16827142e-01, -9.82347865e-02,\n",
              "       -7.76357594e-02, -5.67833300e-02, -3.95570319e-02, -2.38377223e-02,\n",
              "       -1.36218136e-02, -7.14917835e-03,  0.00000000e+00,  0.00000000e+00,\n",
              "        0.00000000e+00,  0.00000000e+00, -5.36837753e-03, -8.87060589e-03,\n",
              "       -1.39792861e-02, -2.29134968e-02, -3.60675078e-02, -5.54935032e-02,\n",
              "       -7.97389495e-02, -1.09272202e-01, -1.39495114e-01, -1.69876742e-01,\n",
              "       -1.98862202e-01, -2.26373498e-01,  2.31339049e-01,  2.07786558e+00,\n",
              "        2.12260566e+00,  1.06089651e+00, -2.17794564e-01, -1.83808977e-01,\n",
              "       -1.46131960e-01, -1.07504819e-01, -7.74326938e-02, -4.79154183e-02,\n",
              "       -3.01659149e-02, -1.61497798e-02, -6.48517340e-03,  0.00000000e+00,\n",
              "        0.00000000e+00, -4.08251693e-03, -7.76342302e-03, -1.55829577e-02,\n",
              "       -2.40047426e-02, -4.79815888e-02, -7.77067653e-02, -1.15764573e-01,\n",
              "       -1.62281555e-01, -2.14384332e-01, -2.70193247e-01, -3.30161233e-01,\n",
              "       -3.93715254e-01,  2.00082961e+00,  2.33482877e+00,  2.39649231e+00,\n",
              "        2.44519594e+00,  2.54904622e+00, -2.55455321e-01, -3.53460573e-01,\n",
              "       -2.82365485e-01, -2.16733513e-01, -1.58380054e-01, -1.09480272e-01,\n",
              "       -7.04355180e-02, -3.91326934e-02, -1.66108766e-02, -5.77049806e-03,\n",
              "        0.00000000e+00, -4.08251693e-03, -1.21480802e-02, -2.23267585e-02,\n",
              "       -5.14055275e-02, -8.95596712e-02, -1.38881752e-01, -1.96647323e-01,\n",
              "       -2.64353562e-01, -3.42503883e-01, -4.26133617e-01, -5.19963011e-01,\n",
              "        6.10402729e-01,  1.67422736e+00,  1.56808299e+00,  1.49644767e+00,\n",
              "        1.52685334e+00,  1.65664261e+00,  9.55837686e-01, -4.43030446e-01,\n",
              "       -4.47098727e-01, -3.47202663e-01, -2.60445744e-01, -1.89826418e-01,\n",
              "       -1.30519464e-01, -7.54109232e-02, -3.35229210e-02, -8.20891834e-03,\n",
              "        0.00000000e+00, -5.57015293e-03, -1.55924693e-02, -3.60004065e-02,\n",
              "       -7.93233685e-02, -1.32055356e-01, -1.97570253e-01, -2.74939836e-01,\n",
              "       -3.64241392e-01, -4.65093673e-01, -5.77831878e-01,  1.33759339e-01,\n",
              "        1.47001990e+00,  1.32968922e+00,  1.20407259e+00,  1.15272962e+00,\n",
              "        1.17938281e+00,  1.26791295e+00,  1.43952709e+00,  6.07573019e-01,\n",
              "       -5.80023038e-01, -4.51207289e-01, -3.37811203e-01, -2.47053298e-01,\n",
              "       -1.72167875e-01, -1.03845934e-01, -4.85339141e-02, -1.59698183e-02,\n",
              "       -4.08251693e-03, -1.26859742e-02, -2.69746757e-02, -5.95900714e-02,\n",
              "       -1.13423232e-01, -1.76866656e-01, -2.56093767e-01, -3.50612814e-01,\n",
              "       -4.60072899e-01, -5.86196257e-01, -7.27951207e-01,  1.02642002e+00,\n",
              "        1.29316147e+00,  1.16808180e+00,  1.09619797e+00,  1.07641160e+00,\n",
              "        1.09679030e+00,  1.15147018e+00,  1.26620895e+00,  7.12112509e-01,\n",
              "       -6.88934695e-01, -5.30468211e-01, -3.94685842e-01, -2.84841196e-01,\n",
              "       -1.95681322e-01, -1.20388306e-01, -5.62365517e-02, -1.49109415e-02,\n",
              "       -4.08251693e-03, -1.68619899e-02, -4.35501506e-02, -8.47198483e-02,\n",
              "       -1.38703852e-01, -2.09139169e-01, -2.97860284e-01, -4.06346345e-01,\n",
              "       -5.34101449e-01, -6.84630312e-01, -8.47967977e-01,  1.26490354e+00,\n",
              "        1.20861703e+00,  1.17484238e+00,  1.17644827e+00,  1.18815054e+00,\n",
              "        1.18506149e+00,  1.18422609e+00,  1.23338045e+00,  6.38506591e-01,\n",
              "       -7.36465872e-01, -5.67397009e-01, -4.20353865e-01, -2.95605391e-01,\n",
              "       -1.97550313e-01, -1.19887100e-01, -5.53831345e-02, -1.35224852e-02,\n",
              "       -7.47297720e-03, -2.17222267e-02, -5.29723024e-02, -9.35568485e-02,\n",
              "       -1.49126940e-01, -2.24146609e-01, -3.21974754e-01, -4.41808284e-01,\n",
              "       -5.87381587e-01, -7.55491922e-01, -9.09151313e-01,  1.23675889e+00,\n",
              "        1.28934079e+00,  1.36169532e+00,  1.19111887e+00,  2.26102689e-01,\n",
              "        8.56218921e-01,  1.29121975e+00,  1.28070517e+00,  1.04456486e+00,\n",
              "       -4.64699375e-01, -5.64355870e-01, -4.17732957e-01, -2.88326721e-01,\n",
              "       -1.81516832e-01, -1.05141105e-01, -4.82235480e-02, -1.42793243e-02,\n",
              "       -7.60752974e-03, -2.21556234e-02, -5.24510363e-02, -9.13630177e-02,\n",
              "       -1.45140493e-01, -2.25208466e-01, -3.31616488e-01, -4.62617651e-01,\n",
              "       -6.23880442e-01, -7.92698838e-01, -9.15097345e-01, -3.35725768e-01,\n",
              "        4.71479216e-01,  5.91942359e-01, -3.62785040e-01, -8.03507708e-01,\n",
              "        4.75812075e-01,  1.35759197e+00,  1.33431888e+00,  1.46711458e+00,\n",
              "       -1.60052806e-01, -5.34219663e-01, -3.95159841e-01, -2.70539427e-01,\n",
              "       -1.60530947e-01, -8.13222436e-02, -3.78101835e-02, -1.28001500e-02,\n",
              "       -7.67874408e-03, -2.00633705e-02, -4.63736597e-02, -8.01383450e-02,\n",
              "       -1.34096245e-01, -2.23614443e-01, -3.38401684e-01, -4.84834225e-01,\n",
              "       -6.55072707e-01, -8.17669922e-01, -9.01930235e-01, -8.69722565e-01,\n",
              "       -7.79781745e-01, -7.30068606e-01, -7.39955706e-01, -8.03175154e-01,\n",
              "        4.40191820e-01,  1.32952237e+00,  1.34439826e+00,  1.53157371e+00,\n",
              "       -9.80740472e-02, -4.97095854e-01, -3.68181300e-01, -2.57483601e-01,\n",
              "       -1.50875890e-01, -6.14223300e-02, -2.85375056e-02, -1.02208026e-02,\n",
              "       -5.30435130e-03, -1.61355913e-02, -3.66086313e-02, -6.79994500e-02,\n",
              "       -1.25835813e-01, -2.25717068e-01, -3.53897929e-01, -5.10918638e-01,\n",
              "       -6.86409231e-01, -8.33435213e-01, -8.90797227e-01, -8.39282588e-01,\n",
              "       -7.63540779e-01, -7.68289690e-01, -8.19988184e-01, -9.18191842e-01,\n",
              "        2.90902675e-01,  1.22582616e+00,  1.31938896e+00,  1.38857026e+00,\n",
              "       -1.94804203e-01, -4.69181863e-01, -3.54578659e-01, -2.55105130e-01,\n",
              "       -1.54312377e-01, -5.39504147e-02, -2.15604491e-02, -9.92198161e-03,\n",
              "        0.00000000e+00, -1.11777926e-02, -2.63006413e-02, -5.67636018e-02,\n",
              "       -1.23815977e-01, -2.38983931e-01, -3.75574874e-01, -5.36878020e-01,\n",
              "       -7.06686294e-01, -8.39863518e-01, -8.79873787e-01, -8.38510601e-01,\n",
              "       -8.12915217e-01, -8.89058107e-01, -9.79469858e-01, -9.23905504e-01,\n",
              "        8.63845875e-01,  1.13399772e+00,  1.30096639e+00,  8.58504368e-01,\n",
              "       -5.94507644e-01, -4.60694367e-01, -3.56484360e-01, -2.63788512e-01,\n",
              "       -1.64365651e-01, -6.01013704e-02, -2.28759661e-02, -7.40432376e-03,\n",
              "       -4.08251693e-03, -6.94445874e-03, -1.82302623e-02, -5.05032759e-02,\n",
              "       -1.28922898e-01, -2.57785626e-01, -3.95999259e-01, -5.52700113e-01,\n",
              "       -3.45627061e-01,  6.90096501e-01,  6.49530236e-01,  1.30739803e-01,\n",
              "       -8.72829687e-01, -1.03336323e+00, -8.65384580e-01,  3.21812265e-01,\n",
              "        1.06055213e+00,  1.11672006e+00,  1.31971195e+00,  7.34457660e-01,\n",
              "       -5.96118908e-01, -4.71691404e-01, -3.69085299e-01, -2.74243927e-01,\n",
              "       -1.73704630e-01, -7.00708750e-02, -2.46690803e-02, -6.98490193e-03,\n",
              "       -4.77028006e-03, -4.08251693e-03, -1.87409331e-02, -5.15349848e-02,\n",
              "       -1.40138666e-01, -2.76622365e-01, -3.71979549e-01,  6.66902092e-01,\n",
              "        1.42615303e+00,  1.55758792e+00,  1.50279782e+00,  1.47904033e+00,\n",
              "        4.66767891e-01,  1.91697242e-01,  2.67561543e-01,  1.04756797e+00,\n",
              "        1.09265355e+00,  1.17046494e+00,  8.12825751e-01, -6.09017189e-01,\n",
              "       -6.09333250e-01, -4.87678651e-01, -3.81163985e-01, -2.78729682e-01,\n",
              "       -1.75110192e-01, -7.78336034e-02, -2.83637554e-02, -9.16049113e-03,\n",
              "       -4.08251693e-03, -5.75634115e-03, -2.15155551e-02, -5.88847323e-02,\n",
              "       -1.56410433e-01, -2.96213720e-01,  5.78980261e-01,  2.22823235e+00,\n",
              "        1.86071321e+00,  1.67654535e+00,  1.60631162e+00,  1.53826480e+00,\n",
              "        1.39141889e+00,  1.22112819e+00,  1.13126839e+00,  1.13424115e+00,\n",
              "        1.17846622e+00,  1.27389903e+00, -7.65308905e-01, -7.46725171e-01,\n",
              "       -6.17444825e-01, -4.94734512e-01, -3.80724308e-01, -2.72995419e-01,\n",
              "       -1.72341550e-01, -8.34398410e-02, -3.21815937e-02, -1.03640252e-02,\n",
              "        0.00000000e+00, -7.92846022e-03, -2.56486027e-02, -7.31074387e-02,\n",
              "       -1.77165413e-01,  3.66353403e-01,  2.45127430e+00,  2.28938394e+00,\n",
              "        1.98327746e+00,  1.81728469e+00,  1.73362940e+00,  1.64432756e+00,\n",
              "        1.51508561e+00,  1.37026371e+00,  1.26277044e+00,  1.23773467e+00,\n",
              "        1.26866283e+00,  1.34839565e+00,  1.37823007e+00,  1.56644591e+00,\n",
              "        1.87372386e+00,  2.37966403e+00,  2.90350517e+00, -2.60172851e-01,\n",
              "       -1.66640580e-01, -8.73271036e-02, -3.36886397e-02, -1.15427294e-02,\n",
              "       -5.90596678e-03, -6.35211414e-03, -3.35109441e-02, -9.07496744e-02,\n",
              "       -1.97973278e-01,  3.17447108e+00,  2.76273856e+00,  2.28082933e+00,\n",
              "        2.02730110e+00,  1.87219401e+00,  1.76799693e+00,  1.68927024e+00,\n",
              "        1.60379684e+00,  1.45522843e+00,  1.32590855e+00,  1.28289049e+00,\n",
              "        1.28520194e+00,  1.34133517e+00,  1.46062015e+00,  1.67957375e+00,\n",
              "        2.05635208e+00,  2.64706911e+00,  3.56541975e+00,  2.94212531e+00,\n",
              "       -1.56652690e-01, -8.45371772e-02, -3.11433857e-02, -9.78345648e-03,\n",
              "       -4.08251693e-03, -9.46535976e-03, -3.88248189e-02, -1.04080523e-01,\n",
              "        2.06376169e+00,  3.56527194e+00,  2.66803938e+00,  2.19440590e+00,\n",
              "        1.93833708e+00,  1.77449522e+00,  1.66415026e+00,  1.59379701e+00,\n",
              "        1.51027672e+00,  9.29514506e-01,  7.10879120e-01,  1.03248570e+00,\n",
              "        1.23837089e+00,  1.30937051e+00,  1.47132478e+00,  1.76118790e+00,\n",
              "        2.21217667e+00,  2.90105733e+00,  3.91550588e+00,  2.65775718e+00,\n",
              "       -1.38802345e-01, -7.65772561e-02, -2.83539530e-02, -7.37530135e-03,\n",
              "        0.00000000e+00, -8.87620745e-03, -4.35123893e-02, -1.09398866e-01,\n",
              "        3.25774740e+00,  3.74376823e+00,  2.66890233e+00,  2.12478416e+00,\n",
              "        1.81046431e+00,  1.61900680e+00,  1.30235654e+00,  4.95033123e-01,\n",
              "       -2.86202437e-01, -9.28540068e-01, -1.12533811e+00, -6.94687169e-01,\n",
              "       -3.97265221e-01, -2.68435664e-01,  1.13828159e+00,  1.54910051e+00,\n",
              "        1.64723823e+00,  2.19035316e+00,  2.14395538e+00, -1.85692827e-01,\n",
              "       -1.19721702e-01, -6.56634862e-02, -2.47848026e-02, -5.77331594e-03,\n",
              "        0.00000000e+00, -9.27618176e-03, -4.17578717e-02, -9.98966834e-02,\n",
              "        4.37213612e+00,  4.21021474e+00,  2.89526819e+00,  2.18806122e+00,\n",
              "        1.76291003e+00,  1.27621413e+00, -4.87333325e-01, -1.01121530e+00,\n",
              "       -1.10407880e+00, -1.18451635e+00, -1.19943317e+00, -1.13363744e+00,\n",
              "       -1.00131859e+00, -8.36103070e-01, -6.69026508e-01, -5.22187621e-01,\n",
              "       -3.97869856e-01, -2.94672606e-01, -2.10016702e-01, -1.46770372e-01,\n",
              "       -9.57108118e-02, -5.04905957e-02, -1.99529836e-02, -4.08251693e-03,\n",
              "        0.00000000e+00, -5.14969601e-03, -3.41028673e-02, -7.89211627e-02,\n",
              "       -1.46370855e-01,  2.20132202e+00,  1.45756116e+00,  9.22497284e-01,\n",
              "        4.13266167e-01, -7.54778359e-01, -8.86832453e-01, -1.00168660e+00,\n",
              "       -1.08799254e+00, -1.12109612e+00, -1.08263923e+00, -9.69748630e-01,\n",
              "       -8.21846623e-01, -6.65447115e-01, -5.23640165e-01, -4.01722561e-01,\n",
              "       -3.01488943e-01, -2.18770731e-01, -1.56644681e-01, -1.07690542e-01,\n",
              "       -6.91159965e-02, -3.64265252e-02, -1.10467219e-02, -4.08251693e-03,\n",
              "        0.00000000e+00, -4.08251693e-03, -2.24870312e-02, -5.05195795e-02,\n",
              "       -9.85267526e-02, -1.65720137e-01, -2.56257063e-01, -3.66279447e-01,\n",
              "       -4.87103618e-01, -6.11649532e-01, -7.35401890e-01, -8.40153166e-01,\n",
              "       -9.01559882e-01, -9.01994589e-01, -8.43942786e-01, -7.39576952e-01,\n",
              "       -6.15499612e-01, -4.92568055e-01, -3.81133338e-01, -2.88282464e-01,\n",
              "       -2.11962612e-01, -1.51388177e-01, -1.07218092e-01, -7.25184824e-02,\n",
              "       -4.32476330e-02, -2.08501635e-02, -1.04024820e-02,  0.00000000e+00,\n",
              "        0.00000000e+00,  0.00000000e+00, -9.83280638e-03, -2.85531144e-02,\n",
              "       -5.70181626e-02, -9.28560981e-02, -1.50781867e-01, -2.19862685e-01,\n",
              "       -3.00684927e-01, -3.84577296e-01, -4.65849245e-01, -5.28495534e-01,\n",
              "       -5.63017436e-01, -5.61532147e-01, -5.28735939e-01, -4.71792686e-01,\n",
              "       -3.99913242e-01, -3.26977883e-01, -2.56501705e-01, -1.93994010e-01,\n",
              "       -1.43816596e-01, -1.00426802e-01, -6.93986386e-02, -4.61198277e-02,\n",
              "       -2.55418064e-02, -1.00812399e-02, -4.08251693e-03,  0.00000000e+00,\n",
              "        0.00000000e+00,  0.00000000e+00, -6.66430111e-03, -1.08655143e-02,\n",
              "       -2.84137518e-02, -5.09529202e-02, -8.55154933e-02, -1.26517432e-01,\n",
              "       -1.75161575e-01, -2.22877564e-01, -2.64667068e-01, -2.92950594e-01,\n",
              "       -3.06063995e-01, -3.05475797e-01, -2.91632677e-01, -2.66804600e-01,\n",
              "       -2.36665430e-01, -2.01875733e-01, -1.62879090e-01, -1.26812983e-01,\n",
              "       -9.28243787e-02, -6.44670285e-02, -4.57358120e-02, -2.91019048e-02,\n",
              "       -1.69169409e-02, -6.84103301e-03, -4.08251693e-03,  0.00000000e+00,\n",
              "        0.00000000e+00,  0.00000000e+00,  0.00000000e+00, -4.08251693e-03,\n",
              "       -1.41674276e-02, -3.03348684e-02, -5.28624462e-02, -7.93838053e-02,\n",
              "       -1.09017309e-01, -1.33926567e-01, -1.55404248e-01, -1.72562831e-01,\n",
              "       -1.81301589e-01, -1.79996968e-01, -1.71363580e-01, -1.53244891e-01,\n",
              "       -1.35253988e-01, -1.16959096e-01, -9.44827622e-02, -7.35846674e-02,\n",
              "       -5.22815739e-02, -3.59790780e-02, -2.24981163e-02, -1.35541373e-02,\n",
              "       -6.05498061e-03,  0.00000000e+00,  0.00000000e+00,  0.00000000e+00,\n",
              "        0.00000000e+00,  0.00000000e+00,  0.00000000e+00,  0.00000000e+00,\n",
              "       -4.59974786e-03, -8.16802206e-03, -1.44441590e-02, -2.16438506e-02,\n",
              "       -2.67208275e-02, -3.22064842e-02, -4.14058303e-02, -4.39235763e-02,\n",
              "       -5.05534284e-02, -5.54309336e-02, -5.99792066e-02, -5.68488487e-02,\n",
              "       -5.17154835e-02, -4.30292604e-02, -3.45013137e-02, -2.44047560e-02,\n",
              "       -1.75561713e-02, -1.09316916e-02, -8.47500766e-03, -5.77039393e-03,\n",
              "        0.00000000e+00,  0.00000000e+00,  0.00000000e+00,  0.00000000e+00])"
            ]
          },
          "metadata": {
            "tags": []
          },
          "execution_count": 9
        }
      ]
    },
    {
      "cell_type": "code",
      "metadata": {
        "id": "joOcagu3Jksk",
        "colab_type": "code",
        "outputId": "4cfcc683-e8df-483e-aa3a-7348d8ca16ee",
        "colab": {
          "base_uri": "https://localhost:8080/",
          "height": 248
        }
      },
      "source": [
        "import matplotlib.pyplot as plt\n",
        "some_image = X[0]\n",
        "some_image_reshape = some_image.reshape(28,28)\n",
        "plt.imshow(some_image_reshape,cmap='binary')\n",
        "plt.axis('off')\n",
        "plt.show()"
      ],
      "execution_count": 10,
      "outputs": [
        {
          "output_type": "display_data",
          "data": {
            "image/png": "[encoded data removed]",
            "text/plain": [
              "<Figure size 432x288 with 1 Axes>"
            ]
          },
          "metadata": {
            "tags": []
          }
        }
      ]
    },
    {
      "cell_type": "code",
      "metadata": {
        "id": "dg7e71zIKPLA",
        "colab_type": "code",
        "outputId": "5bf9fcd7-9ac1-48a6-bca9-0b419086c135",
        "colab": {
          "base_uri": "https://localhost:8080/",
          "height": 34
        }
      },
      "source": [
        "y[0]"
      ],
      "execution_count": 11,
      "outputs": [
        {
          "output_type": "execute_result",
          "data": {
            "text/plain": [
              "'0'"
            ]
          },
          "metadata": {
            "tags": []
          },
          "execution_count": 11
        }
      ]
    },
    {
      "cell_type": "code",
      "metadata": {
        "id": "IuXu2O0oKcTG",
        "colab_type": "code",
        "colab": {}
      },
      "source": [
        "import numpy as np\n",
        "y_train = y_train.astype(np.uint64)"
      ],
      "execution_count": 0,
      "outputs": []
    },
    {
      "cell_type": "code",
      "metadata": {
        "id": "4_XjoZmkKk1-",
        "colab_type": "code",
        "colab": {}
      },
      "source": [
        "y_train_5 = (y_train==5)\n",
        "y_test_5 = (y_test.astype(np.uint64)==5)"
      ],
      "execution_count": 0,
      "outputs": []
    },
    {
      "cell_type": "code",
      "metadata": {
        "id": "m-Y-wkBBLumQ",
        "colab_type": "code",
        "outputId": "65abcc1f-7182-45c9-ad69-f890213d1f7c",
        "colab": {
          "base_uri": "https://localhost:8080/",
          "height": 119
        }
      },
      "source": [
        "from sklearn.linear_model import SGDClassifier\n",
        "sgd_clf = SGDClassifier()\n",
        "sgd_clf.fit(X_train_tr,y_train_5)"
      ],
      "execution_count": 14,
      "outputs": [
        {
          "output_type": "execute_result",
          "data": {
            "text/plain": [
              "SGDClassifier(alpha=0.0001, average=False, class_weight=None,\n",
              "              early_stopping=False, epsilon=0.1, eta0=0.0, fit_intercept=True,\n",
              "              l1_ratio=0.15, learning_rate='optimal', loss='hinge',\n",
              "              max_iter=1000, n_iter_no_change=5, n_jobs=None, penalty='l2',\n",
              "              power_t=0.5, random_state=None, shuffle=True, tol=0.001,\n",
              "              validation_fraction=0.1, verbose=0, warm_start=False)"
            ]
          },
          "metadata": {
            "tags": []
          },
          "execution_count": 14
        }
      ]
    },
    {
      "cell_type": "code",
      "metadata": {
        "id": "bfRwg1zZNUYi",
        "colab_type": "code",
        "outputId": "7c9eb2c1-1498-4888-d04e-4e7837fde5dc",
        "colab": {
          "base_uri": "https://localhost:8080/",
          "height": 34
        }
      },
      "source": [
        "sgd_clf.predict([some_image])"
      ],
      "execution_count": 15,
      "outputs": [
        {
          "output_type": "execute_result",
          "data": {
            "text/plain": [
              "array([False])"
            ]
          },
          "metadata": {
            "tags": []
          },
          "execution_count": 15
        }
      ]
    },
    {
      "cell_type": "code",
      "metadata": {
        "id": "ATowv-bbNqEl",
        "colab_type": "code",
        "colab": {
          "base_uri": "https://localhost:8080/",
          "height": 68
        },
        "outputId": "8d68f084-9881-4671-ed7b-0702fbc660fe"
      },
      "source": [
        "from sklearn.model_selection import StratifiedKFold\n",
        "from sklearn.base import clone\n",
        "strt_fold = StratifiedKFold(random_state=42,n_splits=3)\n",
        "for train_index,test_index in strt_fold.split(X_train_tr,y_train_5):\n",
        "  X_train_str = X_train_tr[train_index]\n",
        "  y_train_str = y_train_5[train_index]\n",
        "  X_test_str = X_train_tr[test_index]\n",
        "  y_test_str = y_train_5[test_index]\n",
        "  #clone_sgd = clone(sgd_clf)\n",
        "  sgd_clf.fit(X_train_str,y_train_str)\n",
        "  predictions=sgd_clf.predict(X_test_str)\n",
        "  avg = sum(predictions==y_test_str)/len(y_test_str)\n",
        "  print(avg)"
      ],
      "execution_count": 16,
      "outputs": [
        {
          "output_type": "stream",
          "text": [
            "0.9716014199290035\n",
            "0.9685\n",
            "0.9684484224211211\n"
          ],
          "name": "stdout"
        }
      ]
    },
    {
      "cell_type": "code",
      "metadata": {
        "id": "wDkOMuFGA5wW",
        "colab_type": "code",
        "colab": {
          "base_uri": "https://localhost:8080/",
          "height": 34
        },
        "outputId": "8bb9f2de-ae91-4438-e282-d28967ba4c1d"
      },
      "source": [
        "from sklearn.model_selection import cross_val_score\n",
        "cross_val = cross_val_score(sgd_clf,X_train_tr,y_train_5,cv=5,scoring='accuracy')\n",
        "print(cross_val)"
      ],
      "execution_count": 17,
      "outputs": [
        {
          "output_type": "stream",
          "text": [
            "[0.9728356  0.96866667 0.9695     0.97008333 0.96966414]\n"
          ],
          "name": "stdout"
        }
      ]
    },
    {
      "cell_type": "code",
      "metadata": {
        "id": "brbam8hUDSIN",
        "colab_type": "code",
        "colab": {}
      },
      "source": [
        "from sklearn.model_selection import cross_val_predict\n",
        "cross_pred = cross_val_predict(sgd_clf,X_train_tr,y_train_5,cv=5)"
      ],
      "execution_count": 0,
      "outputs": []
    },
    {
      "cell_type": "code",
      "metadata": {
        "id": "8MwNruN3GHa5",
        "colab_type": "code",
        "colab": {
          "base_uri": "https://localhost:8080/",
          "height": 34
        },
        "outputId": "9dd0baa7-ec0a-4cf4-8ef1-35b9bd87962c"
      },
      "source": [
        "print(cross_pred)"
      ],
      "execution_count": 19,
      "outputs": [
        {
          "output_type": "stream",
          "text": [
            "[False False False ... False False False]\n"
          ],
          "name": "stdout"
        }
      ]
    },
    {
      "cell_type": "code",
      "metadata": {
        "id": "fC4v3P5zHwnj",
        "colab_type": "code",
        "colab": {
          "base_uri": "https://localhost:8080/",
          "height": 51
        },
        "outputId": "58f83bb9-4bd4-46f2-b1f9-4d9930510f07"
      },
      "source": [
        "from sklearn.metrics import confusion_matrix\n",
        "confusion_matrix(y_train_5,cross_pred)"
      ],
      "execution_count": 20,
      "outputs": [
        {
          "output_type": "execute_result",
          "data": {
            "text/plain": [
              "array([[53990,   606],\n",
              "       [ 1192,  4212]])"
            ]
          },
          "metadata": {
            "tags": []
          },
          "execution_count": 20
        }
      ]
    },
    {
      "cell_type": "code",
      "metadata": {
        "id": "IaQFhiktH8It",
        "colab_type": "code",
        "colab": {
          "base_uri": "https://localhost:8080/",
          "height": 34
        },
        "outputId": "af8bfd57-dcc4-4fec-adbe-7c272c1a3b99"
      },
      "source": [
        "from sklearn.metrics import precision_score,recall_score\n",
        "precision_score(y_train_5,cross_pred)"
      ],
      "execution_count": 21,
      "outputs": [
        {
          "output_type": "execute_result",
          "data": {
            "text/plain": [
              "0.8742216687422167"
            ]
          },
          "metadata": {
            "tags": []
          },
          "execution_count": 21
        }
      ]
    },
    {
      "cell_type": "code",
      "metadata": {
        "id": "yQeBJzgPK8dw",
        "colab_type": "code",
        "colab": {
          "base_uri": "https://localhost:8080/",
          "height": 34
        },
        "outputId": "f1cfe8aa-5f3a-4caa-b71d-51f245c11173"
      },
      "source": [
        "recall_score(y_train_5,cross_pred)"
      ],
      "execution_count": 22,
      "outputs": [
        {
          "output_type": "execute_result",
          "data": {
            "text/plain": [
              "0.7794226498889711"
            ]
          },
          "metadata": {
            "tags": []
          },
          "execution_count": 22
        }
      ]
    },
    {
      "cell_type": "code",
      "metadata": {
        "id": "hP73DH7gLGA7",
        "colab_type": "code",
        "colab": {
          "base_uri": "https://localhost:8080/",
          "height": 34
        },
        "outputId": "0731ca40-469d-47bb-b362-6cd9fcf0864d"
      },
      "source": [
        "from sklearn.metrics import f1_score\n",
        "f1_score(y_train_5,cross_pred)"
      ],
      "execution_count": 23,
      "outputs": [
        {
          "output_type": "execute_result",
          "data": {
            "text/plain": [
              "0.8241048718450401"
            ]
          },
          "metadata": {
            "tags": []
          },
          "execution_count": 23
        }
      ]
    },
    {
      "cell_type": "code",
      "metadata": {
        "id": "Xq78KBGPNLp4",
        "colab_type": "code",
        "colab": {}
      },
      "source": [
        "decision_score = cross_val_predict(sgd_clf,X_train_tr,y_train_5,cv=5,method=\"decision_function\")\n",
        "from sklearn.metrics import precision_recall_curve\n"
      ],
      "execution_count": 0,
      "outputs": []
    },
    {
      "cell_type": "code",
      "metadata": {
        "id": "IeWdJZWjH5f3",
        "colab_type": "code",
        "colab": {
          "base_uri": "https://localhost:8080/",
          "height": 51
        },
        "outputId": "43900007-9249-4c81-daee-56ff5d299077"
      },
      "source": [
        "print(decision_score)"
      ],
      "execution_count": 25,
      "outputs": [
        {
          "output_type": "stream",
          "text": [
            "[-1042.23828738  -475.40464727   -71.11331636 ...  -576.27987384\n",
            "  -381.16164578 -1979.14795099]\n"
          ],
          "name": "stdout"
        }
      ]
    },
    {
      "cell_type": "code",
      "metadata": {
        "id": "LSjSyEc_KWaq",
        "colab_type": "code",
        "colab": {
          "base_uri": "https://localhost:8080/",
          "height": 265
        },
        "outputId": "664e3a09-ef93-456f-8247-73151d6d9f07"
      },
      "source": [
        "precisions,recalls,thresholds = precision_recall_curve(y_train_5,decision_score)\n",
        "plt.plot(thresholds,precisions[:-1],\"b--\",label=\"precisions\")\n",
        "plt.plot(thresholds,recalls[:-1],\"g--\",label=\"recall\")\n",
        "plt.show()"
      ],
      "execution_count": 26,
      "outputs": [
        {
          "output_type": "display_data",
          "data": {
            "image/png": "[encoded data removed]",
            "text/plain": [
              "<Figure size 432x288 with 1 Axes>"
            ]
          },
          "metadata": {
            "tags": []
          }
        }
      ]
    },
    {
      "cell_type": "code",
      "metadata": {
        "id": "FXgaTgCx92wd",
        "colab_type": "code",
        "colab": {
          "base_uri": "https://localhost:8080/",
          "height": 265
        },
        "outputId": "b3e2760b-10a9-4ec2-90f0-ba266da9f0b9"
      },
      "source": [
        "plt.plot(precisions,recalls)\n",
        "plt.show()"
      ],
      "execution_count": 27,
      "outputs": [
        {
          "output_type": "display_data",
          "data": {
            "image/png": "[encoded data removed]",
            "text/plain": [
              "<Figure size 432x288 with 1 Axes>"
            ]
          },
          "metadata": {
            "tags": []
          }
        }
      ]
    },
    {
      "cell_type": "code",
      "metadata": {
        "id": "sL6gOd3V9_R0",
        "colab_type": "code",
        "colab": {
          "base_uri": "https://localhost:8080/",
          "height": 51
        },
        "outputId": "c2d0482a-b66c-4dc7-c617-4bc8048d6c3c"
      },
      "source": [
        "print(recalls)"
      ],
      "execution_count": 28,
      "outputs": [
        {
          "output_type": "stream",
          "text": [
            "[1.00000000e+00 9.99814952e-01 9.99814952e-01 ... 3.70096225e-04\n",
            " 1.85048113e-04 0.00000000e+00]\n"
          ],
          "name": "stdout"
        }
      ]
    },
    {
      "cell_type": "code",
      "metadata": {
        "id": "a8p_bo2E_AyQ",
        "colab_type": "code",
        "colab": {
          "base_uri": "https://localhost:8080/",
          "height": 34
        },
        "outputId": "58b42e38-1f11-4287-8372-f5a678a76281"
      },
      "source": [
        "print(precisions)"
      ],
      "execution_count": 29,
      "outputs": [
        {
          "output_type": "stream",
          "text": [
            "[0.09048137 0.09046614 0.09046766 ... 1.         1.         1.        ]\n"
          ],
          "name": "stdout"
        }
      ]
    },
    {
      "cell_type": "code",
      "metadata": {
        "id": "Nm_uH9dU_D8z",
        "colab_type": "code",
        "colab": {}
      },
      "source": [
        "threshold_90 = thresholds[np.argmax(precisions >= 0.9)]"
      ],
      "execution_count": 0,
      "outputs": []
    },
    {
      "cell_type": "code",
      "metadata": {
        "id": "OBmpfhi2_UpS",
        "colab_type": "code",
        "colab": {
          "base_uri": "https://localhost:8080/",
          "height": 34
        },
        "outputId": "c7941053-ce41-4493-8058-af91efc7d2f5"
      },
      "source": [
        "print(threshold_90)"
      ],
      "execution_count": 31,
      "outputs": [
        {
          "output_type": "stream",
          "text": [
            "16.028572670614665\n"
          ],
          "name": "stdout"
        }
      ]
    },
    {
      "cell_type": "code",
      "metadata": {
        "id": "Pv1HYY_L_Z0j",
        "colab_type": "code",
        "colab": {
          "base_uri": "https://localhost:8080/",
          "height": 51
        },
        "outputId": "4ce19983-7fa5-448d-9ec2-df8942c31297"
      },
      "source": [
        "decision_score_pred = (decision_score >= threshold_90)\n",
        "confusion_matrix(y_train_5,decision_score_pred)"
      ],
      "execution_count": 32,
      "outputs": [
        {
          "output_type": "execute_result",
          "data": {
            "text/plain": [
              "array([[54149,   447],\n",
              "       [ 1375,  4029]])"
            ]
          },
          "metadata": {
            "tags": []
          },
          "execution_count": 32
        }
      ]
    },
    {
      "cell_type": "code",
      "metadata": {
        "id": "qMi5lTLnAU8k",
        "colab_type": "code",
        "colab": {
          "base_uri": "https://localhost:8080/",
          "height": 34
        },
        "outputId": "dbad1f42-7854-4eb5-ca78-04eef175cf7c"
      },
      "source": [
        "precision_score(y_train_5,decision_score_pred)"
      ],
      "execution_count": 33,
      "outputs": [
        {
          "output_type": "execute_result",
          "data": {
            "text/plain": [
              "0.9001340482573726"
            ]
          },
          "metadata": {
            "tags": []
          },
          "execution_count": 33
        }
      ]
    },
    {
      "cell_type": "code",
      "metadata": {
        "id": "2oDXBZHrAecn",
        "colab_type": "code",
        "colab": {
          "base_uri": "https://localhost:8080/",
          "height": 34
        },
        "outputId": "fa9776fe-5f2b-4e27-83a0-c05353bdddc5"
      },
      "source": [
        "recall_score(y_train_5,decision_score_pred)"
      ],
      "execution_count": 34,
      "outputs": [
        {
          "output_type": "execute_result",
          "data": {
            "text/plain": [
              "0.7455588452997779"
            ]
          },
          "metadata": {
            "tags": []
          },
          "execution_count": 34
        }
      ]
    },
    {
      "cell_type": "code",
      "metadata": {
        "id": "zAV5mY2vAlDA",
        "colab_type": "code",
        "colab": {
          "base_uri": "https://localhost:8080/",
          "height": 34
        },
        "outputId": "cf4e8b85-e27b-46a0-ee23-a7fd5beede9f"
      },
      "source": [
        "f1_score(y_train_5,decision_score_pred)"
      ],
      "execution_count": 35,
      "outputs": [
        {
          "output_type": "execute_result",
          "data": {
            "text/plain": [
              "0.815587044534413"
            ]
          },
          "metadata": {
            "tags": []
          },
          "execution_count": 35
        }
      ]
    },
    {
      "cell_type": "code",
      "metadata": {
        "id": "HkLlzpBhApGg",
        "colab_type": "code",
        "colab": {}
      },
      "source": [
        "from sklearn.metrics import roc_curve\n",
        "fpr,tpr,thresholds = roc_curve(y_train_5,decision_score)"
      ],
      "execution_count": 0,
      "outputs": []
    },
    {
      "cell_type": "code",
      "metadata": {
        "id": "VJEUH9NDDraJ",
        "colab_type": "code",
        "colab": {
          "base_uri": "https://localhost:8080/",
          "height": 282
        },
        "outputId": "b0f16162-34d5-42a2-af8a-f9503cb29010"
      },
      "source": [
        "plt.plot(fpr,tpr)"
      ],
      "execution_count": 37,
      "outputs": [
        {
          "output_type": "execute_result",
          "data": {
            "text/plain": [
              "[<matplotlib.lines.Line2D at 0x7f2abbcafa58>]"
            ]
          },
          "metadata": {
            "tags": []
          },
          "execution_count": 37
        },
        {
          "output_type": "display_data",
          "data": {
            "image/png": "[encoded data removed]",
            "text/plain": [
              "<Figure size 432x288 with 1 Axes>"
            ]
          },
          "metadata": {
            "tags": []
          }
        }
      ]
    },
    {
      "cell_type": "code",
      "metadata": {
        "id": "HeNjO-pRD00D",
        "colab_type": "code",
        "colab": {
          "base_uri": "https://localhost:8080/",
          "height": 34
        },
        "outputId": "ca9b0f6f-2236-4516-848c-d162817b8cdb"
      },
      "source": [
        "from sklearn.metrics import roc_auc_score\n",
        "roc_auc_score(y_train_5,decision_score)"
      ],
      "execution_count": 38,
      "outputs": [
        {
          "output_type": "execute_result",
          "data": {
            "text/plain": [
              "0.973526867077022"
            ]
          },
          "metadata": {
            "tags": []
          },
          "execution_count": 38
        }
      ]
    },
    {
      "cell_type": "code",
      "metadata": {
        "id": "U5oVJ6WlGpVW",
        "colab_type": "code",
        "colab": {
          "base_uri": "https://localhost:8080/",
          "height": 326
        },
        "outputId": "27d0fa62-d0eb-49b0-d6f5-9c2a2958b876"
      },
      "source": [
        "from sklearn.ensemble import RandomForestClassifier\n",
        "random_clf = RandomForestClassifier(random_state=4)\n",
        "rand_clf_scores = cross_val_predict(random_clf,X_train_tr,y_train_5,cv=5,method=\"predict_proba\")\n",
        "print(rand_clf_scores)"
      ],
      "execution_count": 39,
      "outputs": [
        {
          "output_type": "stream",
          "text": [
            "/usr/local/lib/python3.6/dist-packages/sklearn/ensemble/forest.py:245: FutureWarning: The default value of n_estimators will change from 10 in version 0.20 to 100 in 0.22.\n",
            "  \"10 in version 0.20 to 100 in 0.22.\", FutureWarning)\n",
            "/usr/local/lib/python3.6/dist-packages/sklearn/ensemble/forest.py:245: FutureWarning: The default value of n_estimators will change from 10 in version 0.20 to 100 in 0.22.\n",
            "  \"10 in version 0.20 to 100 in 0.22.\", FutureWarning)\n",
            "/usr/local/lib/python3.6/dist-packages/sklearn/ensemble/forest.py:245: FutureWarning: The default value of n_estimators will change from 10 in version 0.20 to 100 in 0.22.\n",
            "  \"10 in version 0.20 to 100 in 0.22.\", FutureWarning)\n",
            "/usr/local/lib/python3.6/dist-packages/sklearn/ensemble/forest.py:245: FutureWarning: The default value of n_estimators will change from 10 in version 0.20 to 100 in 0.22.\n",
            "  \"10 in version 0.20 to 100 in 0.22.\", FutureWarning)\n",
            "/usr/local/lib/python3.6/dist-packages/sklearn/ensemble/forest.py:245: FutureWarning: The default value of n_estimators will change from 10 in version 0.20 to 100 in 0.22.\n",
            "  \"10 in version 0.20 to 100 in 0.22.\", FutureWarning)\n"
          ],
          "name": "stderr"
        },
        {
          "output_type": "stream",
          "text": [
            "[[1.  0. ]\n",
            " [1.  0. ]\n",
            " [0.9 0.1]\n",
            " ...\n",
            " [0.9 0.1]\n",
            " [1.  0. ]\n",
            " [1.  0. ]]\n"
          ],
          "name": "stdout"
        }
      ]
    },
    {
      "cell_type": "code",
      "metadata": {
        "id": "u02i7ncpKO8c",
        "colab_type": "code",
        "colab": {}
      },
      "source": [
        "fpr_forest,tpr_forest,thresholds_forest = roc_curve(y_train_5,rand_clf_scores[:,1])"
      ],
      "execution_count": 0,
      "outputs": []
    },
    {
      "cell_type": "code",
      "metadata": {
        "id": "0nnss5l4K3dK",
        "colab_type": "code",
        "colab": {
          "base_uri": "https://localhost:8080/",
          "height": 265
        },
        "outputId": "e68a17ee-0b5b-4789-d283-a8dbf4e42ce5"
      },
      "source": [
        "plt.plot(fpr,tpr,\"b:\",\"sgd\")\n",
        "plt.plot(fpr_forest,tpr_forest,label=\"random\")\n",
        "plt.show()"
      ],
      "execution_count": 41,
      "outputs": [
        {
          "output_type": "display_data",
          "data": {
            "image/png": "[encoded data removed]",
            "text/plain": [
              "<Figure size 432x288 with 1 Axes>"
            ]
          },
          "metadata": {
            "tags": []
          }
        }
      ]
    },
    {
      "cell_type": "code",
      "metadata": {
        "id": "zJvXjXD9LNw5",
        "colab_type": "code",
        "colab": {
          "base_uri": "https://localhost:8080/",
          "height": 34
        },
        "outputId": "902fbe36-a1e1-4061-f325-4bcd5daacaf8"
      },
      "source": [
        "roc_auc_score(y_train_5,rand_clf_scores[:,1])"
      ],
      "execution_count": 42,
      "outputs": [
        {
          "output_type": "execute_result",
          "data": {
            "text/plain": [
              "0.9938294643287597"
            ]
          },
          "metadata": {
            "tags": []
          },
          "execution_count": 42
        }
      ]
    },
    {
      "cell_type": "code",
      "metadata": {
        "id": "UY-yg49LLj0h",
        "colab_type": "code",
        "colab": {
          "base_uri": "https://localhost:8080/",
          "height": 34
        },
        "outputId": "714d6ee0-f7b3-4905-c46c-a9c0c33d9a8e"
      },
      "source": [
        "f1_score(y_train_5,rand_clf_scores[:,1]>=0.5)"
      ],
      "execution_count": 43,
      "outputs": [
        {
          "output_type": "execute_result",
          "data": {
            "text/plain": [
              "0.9256854955915123"
            ]
          },
          "metadata": {
            "tags": []
          },
          "execution_count": 43
        }
      ]
    },
    {
      "cell_type": "code",
      "metadata": {
        "id": "yakR4qoaLtwy",
        "colab_type": "code",
        "colab": {
          "base_uri": "https://localhost:8080/",
          "height": 51
        },
        "outputId": "fecde1f3-272d-42be-8b48-7c30d4d9cb8d"
      },
      "source": [
        "confusion_matrix(y_train_5,rand_clf_scores[:,1]>=0.5)"
      ],
      "execution_count": 44,
      "outputs": [
        {
          "output_type": "execute_result",
          "data": {
            "text/plain": [
              "array([[54456,   140],\n",
              "       [  627,  4777]])"
            ]
          },
          "metadata": {
            "tags": []
          },
          "execution_count": 44
        }
      ]
    },
    {
      "cell_type": "code",
      "metadata": {
        "id": "qcSRZ3R5MChx",
        "colab_type": "code",
        "colab": {
          "base_uri": "https://localhost:8080/",
          "height": 34
        },
        "outputId": "9e0c05bc-22c2-4f5c-8de9-c8e0d4a063f5"
      },
      "source": [
        "precision_score(y_train_5,rand_clf_scores[:,1]>=0.5)"
      ],
      "execution_count": 45,
      "outputs": [
        {
          "output_type": "execute_result",
          "data": {
            "text/plain": [
              "0.9715273540776896"
            ]
          },
          "metadata": {
            "tags": []
          },
          "execution_count": 45
        }
      ]
    },
    {
      "cell_type": "code",
      "metadata": {
        "id": "Lrz1mWb7MSyl",
        "colab_type": "code",
        "colab": {
          "base_uri": "https://localhost:8080/",
          "height": 224
        },
        "outputId": "43819852-854c-48d4-a85c-48e4800f3bc5"
      },
      "source": [
        "y_train_pred_forest = cross_val_predict(random_clf,X_train_tr,y_train_5,cv=5)\n",
        "precision_score(y_train_5,y_train_pred_forest)"
      ],
      "execution_count": 46,
      "outputs": [
        {
          "output_type": "stream",
          "text": [
            "/usr/local/lib/python3.6/dist-packages/sklearn/ensemble/forest.py:245: FutureWarning: The default value of n_estimators will change from 10 in version 0.20 to 100 in 0.22.\n",
            "  \"10 in version 0.20 to 100 in 0.22.\", FutureWarning)\n",
            "/usr/local/lib/python3.6/dist-packages/sklearn/ensemble/forest.py:245: FutureWarning: The default value of n_estimators will change from 10 in version 0.20 to 100 in 0.22.\n",
            "  \"10 in version 0.20 to 100 in 0.22.\", FutureWarning)\n",
            "/usr/local/lib/python3.6/dist-packages/sklearn/ensemble/forest.py:245: FutureWarning: The default value of n_estimators will change from 10 in version 0.20 to 100 in 0.22.\n",
            "  \"10 in version 0.20 to 100 in 0.22.\", FutureWarning)\n",
            "/usr/local/lib/python3.6/dist-packages/sklearn/ensemble/forest.py:245: FutureWarning: The default value of n_estimators will change from 10 in version 0.20 to 100 in 0.22.\n",
            "  \"10 in version 0.20 to 100 in 0.22.\", FutureWarning)\n",
            "/usr/local/lib/python3.6/dist-packages/sklearn/ensemble/forest.py:245: FutureWarning: The default value of n_estimators will change from 10 in version 0.20 to 100 in 0.22.\n",
            "  \"10 in version 0.20 to 100 in 0.22.\", FutureWarning)\n"
          ],
          "name": "stderr"
        },
        {
          "output_type": "execute_result",
          "data": {
            "text/plain": [
              "0.9867957746478874"
            ]
          },
          "metadata": {
            "tags": []
          },
          "execution_count": 46
        }
      ]
    },
    {
      "cell_type": "code",
      "metadata": {
        "id": "VA7GR3sxM2v8",
        "colab_type": "code",
        "colab": {
          "base_uri": "https://localhost:8080/",
          "height": 139
        },
        "outputId": "e1716530-a8b7-4bc1-a523-6f521df3b353"
      },
      "source": [
        "from sklearn.svm import SVC\n",
        "svc_clf = SVC()\n",
        "svc_clf.fit(X_train_tr,y_train)"
      ],
      "execution_count": 47,
      "outputs": [
        {
          "output_type": "stream",
          "text": [
            "/usr/local/lib/python3.6/dist-packages/sklearn/svm/base.py:193: FutureWarning: The default value of gamma will change from 'auto' to 'scale' in version 0.22 to account better for unscaled features. Set gamma explicitly to 'auto' or 'scale' to avoid this warning.\n",
            "  \"avoid this warning.\", FutureWarning)\n"
          ],
          "name": "stderr"
        },
        {
          "output_type": "execute_result",
          "data": {
            "text/plain": [
              "SVC(C=1.0, cache_size=200, class_weight=None, coef0=0.0,\n",
              "    decision_function_shape='ovr', degree=3, gamma='auto_deprecated',\n",
              "    kernel='rbf', max_iter=-1, probability=False, random_state=None,\n",
              "    shrinking=True, tol=0.001, verbose=False)"
            ]
          },
          "metadata": {
            "tags": []
          },
          "execution_count": 47
        }
      ]
    },
    {
      "cell_type": "code",
      "metadata": {
        "id": "OJgG0LtMTQET",
        "colab_type": "code",
        "colab": {
          "base_uri": "https://localhost:8080/",
          "height": 34
        },
        "outputId": "0b26d449-48c2-4e2d-e0a2-c9edde011957"
      },
      "source": [
        "svc_clf.predict([some_image])"
      ],
      "execution_count": 48,
      "outputs": [
        {
          "output_type": "execute_result",
          "data": {
            "text/plain": [
              "array([7], dtype=uint64)"
            ]
          },
          "metadata": {
            "tags": []
          },
          "execution_count": 48
        }
      ]
    },
    {
      "cell_type": "code",
      "metadata": {
        "id": "Tp3tD0NrWcha",
        "colab_type": "code",
        "colab": {}
      },
      "source": [
        "some_digit_pred = svc_clf.decision_function([some_image])"
      ],
      "execution_count": 0,
      "outputs": []
    },
    {
      "cell_type": "code",
      "metadata": {
        "id": "4CF_9otAWjrT",
        "colab_type": "code",
        "colab": {
          "base_uri": "https://localhost:8080/",
          "height": 34
        },
        "outputId": "922a135d-685b-492e-a628-68368c0d610d"
      },
      "source": [
        "np.argmax(some_digit_pred)"
      ],
      "execution_count": 50,
      "outputs": [
        {
          "output_type": "execute_result",
          "data": {
            "text/plain": [
              "7"
            ]
          },
          "metadata": {
            "tags": []
          },
          "execution_count": 50
        }
      ]
    },
    {
      "cell_type": "code",
      "metadata": {
        "id": "Mmv9uAfUW9rO",
        "colab_type": "code",
        "colab": {
          "base_uri": "https://localhost:8080/",
          "height": 34
        },
        "outputId": "e360aa2d-7f50-4e60-86c9-9a8bd1af3595"
      },
      "source": [
        "svc_clf.classes_"
      ],
      "execution_count": 51,
      "outputs": [
        {
          "output_type": "execute_result",
          "data": {
            "text/plain": [
              "array([0, 1, 2, 3, 4, 5, 6, 7, 8, 9], dtype=uint64)"
            ]
          },
          "metadata": {
            "tags": []
          },
          "execution_count": 51
        }
      ]
    },
    {
      "cell_type": "code",
      "metadata": {
        "id": "2k4XjWrNXCJ2",
        "colab_type": "code",
        "colab": {
          "base_uri": "https://localhost:8080/",
          "height": 34
        },
        "outputId": "e5d9e206-eed8-4a02-8fcf-48e36e1aff76"
      },
      "source": [
        "y_train[0]"
      ],
      "execution_count": 52,
      "outputs": [
        {
          "output_type": "execute_result",
          "data": {
            "text/plain": [
              "2"
            ]
          },
          "metadata": {
            "tags": []
          },
          "execution_count": 52
        }
      ]
    },
    {
      "cell_type": "code",
      "metadata": {
        "id": "Sk7ayvsuXHE-",
        "colab_type": "code",
        "colab": {
          "base_uri": "https://localhost:8080/",
          "height": 282
        },
        "outputId": "5bb94814-f903-4d36-c1f7-b033b01efe8c"
      },
      "source": [
        "plt.imshow(some_image.reshape(28,28),cmap=\"binary\")"
      ],
      "execution_count": 53,
      "outputs": [
        {
          "output_type": "execute_result",
          "data": {
            "text/plain": [
              "<matplotlib.image.AxesImage at 0x7f2ab9ef03c8>"
            ]
          },
          "metadata": {
            "tags": []
          },
          "execution_count": 53
        },
        {
          "output_type": "display_data",
          "data": {
            "image/png": "[encoded data removed]",
            "text/plain": [
              "<Figure size 432x288 with 1 Axes>"
            ]
          },
          "metadata": {
            "tags": []
          }
        }
      ]
    },
    {
      "cell_type": "code",
      "metadata": {
        "id": "7bgsz8dDXNgN",
        "colab_type": "code",
        "colab": {
          "base_uri": "https://localhost:8080/",
          "height": 181
        },
        "outputId": "b0558d90-bf07-4dc4-be8d-684c35b0c8a8"
      },
      "source": [
        "sgd_clf.fit(X_train_tr,y_train)\n",
        "sgd_clf.predict([some_digit])"
      ],
      "execution_count": 54,
      "outputs": [
        {
          "output_type": "error",
          "ename": "NameError",
          "evalue": "ignored",
          "traceback": [
            "\u001b[0;31m---------------------------------------------------------------------------\u001b[0m",
            "\u001b[0;31mNameError\u001b[0m                                 Traceback (most recent call last)",
            "\u001b[0;32m<ipython-input-54-4409c828458d>\u001b[0m in \u001b[0;36m<module>\u001b[0;34m()\u001b[0m\n\u001b[1;32m      1\u001b[0m \u001b[0msgd_clf\u001b[0m\u001b[0;34m.\u001b[0m\u001b[0mfit\u001b[0m\u001b[0;34m(\u001b[0m\u001b[0mX_train_tr\u001b[0m\u001b[0;34m,\u001b[0m\u001b[0my_train\u001b[0m\u001b[0;34m)\u001b[0m\u001b[0;34m\u001b[0m\u001b[0;34m\u001b[0m\u001b[0m\n\u001b[0;32m----> 2\u001b[0;31m \u001b[0msgd_clf\u001b[0m\u001b[0;34m.\u001b[0m\u001b[0mpredict\u001b[0m\u001b[0;34m(\u001b[0m\u001b[0;34m[\u001b[0m\u001b[0msome_digit\u001b[0m\u001b[0;34m]\u001b[0m\u001b[0;34m)\u001b[0m\u001b[0;34m\u001b[0m\u001b[0;34m\u001b[0m\u001b[0m\n\u001b[0m",
            "\u001b[0;31mNameError\u001b[0m: name 'some_digit' is not defined"
          ]
        }
      ]
    },
    {
      "cell_type": "code",
      "metadata": {
        "id": "YRWd1z5aX7T7",
        "colab_type": "code",
        "colab": {}
      },
      "source": [
        ""
      ],
      "execution_count": 0,
      "outputs": []
    }
  ]
}